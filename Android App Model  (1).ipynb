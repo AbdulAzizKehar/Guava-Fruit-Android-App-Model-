{
 "cells": [
  {
   "cell_type": "code",
   "execution_count": 1,
   "id": "ae27b3a4",
   "metadata": {},
   "outputs": [],
   "source": [
    "import tensorflow as tf\n",
    "from tensorflow.keras import models, layers\n",
    "import matplotlib.pyplot as plt"
   ]
  },
  {
   "cell_type": "code",
   "execution_count": 2,
   "id": "c4b1c9d1",
   "metadata": {},
   "outputs": [],
   "source": [
    "BATCH_SIZE = 32\n",
    "IMAGE_SIZE = 256\n",
    "CHANNELS=3\n",
    "EPOCHS=50"
   ]
  },
  {
   "cell_type": "code",
   "execution_count": 3,
   "id": "0de09c29",
   "metadata": {},
   "outputs": [
    {
     "name": "stdout",
     "output_type": "stream",
     "text": [
      "Found 2361 files belonging to 9 classes.\n"
     ]
    }
   ],
   "source": [
    "dataset = tf.keras.preprocessing.image_dataset_from_directory(\n",
    "    \"Dataset for Android App\",\n",
    "    shuffle = True,\n",
    "    image_size = (IMAGE_SIZE,IMAGE_SIZE),\n",
    "    batch_size = BATCH_SIZE\n",
    "\n",
    ")"
   ]
  },
  {
   "cell_type": "code",
   "execution_count": 4,
   "id": "f4107ef4",
   "metadata": {},
   "outputs": [
    {
     "data": {
      "text/plain": [
       "['Local Sindhi Green',\n",
       " 'Local Sindhi Mature Green',\n",
       " 'Local Sindhi Ripe',\n",
       " 'Riyali Green',\n",
       " 'Riyali Mature Green',\n",
       " 'Riyali Ripe',\n",
       " 'Thadhrami Green',\n",
       " 'Thadhrami Mature Green',\n",
       " 'Thadhrami Ripe']"
      ]
     },
     "execution_count": 4,
     "metadata": {},
     "output_type": "execute_result"
    }
   ],
   "source": [
    "class_names = dataset.class_names\n",
    "class_names"
   ]
  },
  {
   "cell_type": "code",
   "execution_count": 5,
   "id": "59f6cc11",
   "metadata": {},
   "outputs": [],
   "source": [
    "class_names =[\"Local Sindhi Green\", \"Local Sindhi Mature Green\", \"Local Sindhi Ripe\",\"Riyali Green\",\"Riyali Mature Green\",\"Riyali Ripe\",\"Thadhrami Green\",\"Thadhrami Mature Green\",\"Thadhrami Ripe\"]"
   ]
  },
  {
   "cell_type": "code",
   "execution_count": 6,
   "id": "65b4d925",
   "metadata": {},
   "outputs": [],
   "source": [
    "def get_dataset_partitions_tf(ds, train_split=0.8, val_split=0.1, test_split=0.1, shuffle=True, shuffle_size=10000):\n",
    "    assert (train_split + test_split + val_split) == 1\n",
    "    \n",
    "    ds_size = len(ds)\n",
    "    \n",
    "    if shuffle:\n",
    "        ds = ds.shuffle(shuffle_size, seed=12)\n",
    "    \n",
    "    train_size = int(train_split * ds_size)\n",
    "    val_size = int(val_split * ds_size)\n",
    "    \n",
    "    train_ds = ds.take(train_size)    \n",
    "    val_ds = ds.skip(train_size).take(val_size)\n",
    "    test_ds = ds.skip(train_size).skip(val_size)\n",
    "    \n",
    "    return train_ds, val_ds, test_ds"
   ]
  },
  {
   "cell_type": "code",
   "execution_count": 7,
   "id": "d2acc979",
   "metadata": {},
   "outputs": [],
   "source": [
    "train_ds, val_ds, test_ds = get_dataset_partitions_tf(dataset)"
   ]
  },
  {
   "cell_type": "code",
   "execution_count": 10,
   "id": "d111a0aa",
   "metadata": {},
   "outputs": [
    {
     "data": {
      "text/plain": [
       "59"
      ]
     },
     "execution_count": 10,
     "metadata": {},
     "output_type": "execute_result"
    }
   ],
   "source": [
    "len(train_ds)"
   ]
  },
  {
   "cell_type": "code",
   "execution_count": 11,
   "id": "a9b189c6",
   "metadata": {},
   "outputs": [],
   "source": [
    "input_shape = (BATCH_SIZE, IMAGE_SIZE, IMAGE_SIZE, CHANNELS)\n",
    "n_classes = 9\n",
    "\n",
    "model = models.Sequential([\n",
    "    tf.keras.layers.Rescaling(1./255),\n",
    "    layers.Conv2D(32, kernel_size = (3,3), activation='relu', input_shape=input_shape),\n",
    "    layers.MaxPooling2D((2, 2)),\n",
    "    layers.Conv2D(64,  kernel_size = (3,3), activation='relu'),\n",
    "    layers.MaxPooling2D((2, 2)),\n",
    "    layers.Conv2D(64,  kernel_size = (3,3), activation='relu'),\n",
    "    layers.MaxPooling2D((2, 2)),\n",
    "    layers.Conv2D(64, (3, 3), activation='relu'),\n",
    "    layers.MaxPooling2D((2, 2)),\n",
    "    layers.Conv2D(64, (3, 3), activation='relu'),\n",
    "    layers.MaxPooling2D((2, 2)),\n",
    "    layers.Conv2D(64, (3, 3), activation='relu'),\n",
    "    layers.MaxPooling2D((2, 2)),\n",
    "    layers.Flatten(),\n",
    "    layers.Dense(64, activation='relu'),\n",
    "    layers.Dense(n_classes)\n",
    "])\n",
    "\n",
    "model.build(input_shape=input_shape)"
   ]
  },
  {
   "cell_type": "code",
   "execution_count": 12,
   "id": "31a5d52c",
   "metadata": {},
   "outputs": [],
   "source": [
    "model.compile(\n",
    "    optimizer=\"adam\",\n",
    "    loss=tf.losses.SparseCategoricalCrossentropy(from_logits = True),\n",
    "    metrics=['accuracy']\n",
    ")"
   ]
  },
  {
   "cell_type": "code",
   "execution_count": 13,
   "id": "5a475995",
   "metadata": {},
   "outputs": [
    {
     "name": "stdout",
     "output_type": "stream",
     "text": [
      "Epoch 1/50\n",
      "59/59 [==============================] - 51s 712ms/step - loss: 1.9694 - accuracy: 0.1999 - val_loss: 1.9224 - val_accuracy: 0.2232\n",
      "Epoch 2/50\n",
      "59/59 [==============================] - 43s 672ms/step - loss: 1.7747 - accuracy: 0.2934 - val_loss: 1.3963 - val_accuracy: 0.4464\n",
      "Epoch 3/50\n",
      "59/59 [==============================] - 41s 678ms/step - loss: 1.3362 - accuracy: 0.4567 - val_loss: 1.1587 - val_accuracy: 0.5357\n",
      "Epoch 4/50\n",
      "59/59 [==============================] - 39s 651ms/step - loss: 1.0869 - accuracy: 0.5731 - val_loss: 0.9441 - val_accuracy: 0.6696\n",
      "Epoch 5/50\n",
      "59/59 [==============================] - 40s 658ms/step - loss: 0.8914 - accuracy: 0.6396 - val_loss: 0.5774 - val_accuracy: 0.7812\n",
      "Epoch 6/50\n",
      "59/59 [==============================] - 40s 658ms/step - loss: 0.6992 - accuracy: 0.7225 - val_loss: 0.5886 - val_accuracy: 0.8125\n",
      "Epoch 7/50\n",
      "59/59 [==============================] - 39s 651ms/step - loss: 0.6208 - accuracy: 0.7560 - val_loss: 0.4914 - val_accuracy: 0.8125\n",
      "Epoch 8/50\n",
      "59/59 [==============================] - 39s 650ms/step - loss: 0.4838 - accuracy: 0.8139 - val_loss: 0.3264 - val_accuracy: 0.8884\n",
      "Epoch 9/50\n",
      "59/59 [==============================] - 39s 645ms/step - loss: 0.4450 - accuracy: 0.8337 - val_loss: 0.4848 - val_accuracy: 0.8125\n",
      "Epoch 10/50\n",
      "59/59 [==============================] - 41s 677ms/step - loss: 0.3684 - accuracy: 0.8612 - val_loss: 0.3757 - val_accuracy: 0.8571\n",
      "Epoch 11/50\n",
      "59/59 [==============================] - 39s 647ms/step - loss: 0.4194 - accuracy: 0.8480 - val_loss: 0.2321 - val_accuracy: 0.9375\n",
      "Epoch 12/50\n",
      "59/59 [==============================] - 40s 668ms/step - loss: 0.2526 - accuracy: 0.9102 - val_loss: 0.3013 - val_accuracy: 0.8750\n",
      "Epoch 13/50\n",
      "59/59 [==============================] - 41s 679ms/step - loss: 0.2312 - accuracy: 0.9269 - val_loss: 0.1937 - val_accuracy: 0.9286\n",
      "Epoch 14/50\n",
      "59/59 [==============================] - 45s 747ms/step - loss: 0.2676 - accuracy: 0.9038 - val_loss: 0.2180 - val_accuracy: 0.9107\n",
      "Epoch 15/50\n",
      "59/59 [==============================] - 41s 675ms/step - loss: 0.3014 - accuracy: 0.9001 - val_loss: 0.1441 - val_accuracy: 0.9732\n",
      "Epoch 16/50\n",
      "59/59 [==============================] - 40s 663ms/step - loss: 0.1651 - accuracy: 0.9511 - val_loss: 0.1105 - val_accuracy: 0.9554\n",
      "Epoch 17/50\n",
      "59/59 [==============================] - 39s 653ms/step - loss: 0.1438 - accuracy: 0.9555 - val_loss: 0.1212 - val_accuracy: 0.9464\n",
      "Epoch 18/50\n",
      "59/59 [==============================] - 39s 643ms/step - loss: 0.1799 - accuracy: 0.9474 - val_loss: 0.1361 - val_accuracy: 0.9375\n",
      "Epoch 19/50\n",
      "59/59 [==============================] - 39s 638ms/step - loss: 0.2204 - accuracy: 0.9256 - val_loss: 0.1011 - val_accuracy: 0.9816\n",
      "Epoch 20/50\n",
      "59/59 [==============================] - 39s 641ms/step - loss: 0.1462 - accuracy: 0.9490 - val_loss: 0.1293 - val_accuracy: 0.9643\n",
      "Epoch 21/50\n",
      "59/59 [==============================] - 39s 650ms/step - loss: 0.1174 - accuracy: 0.9629 - val_loss: 0.1257 - val_accuracy: 0.9643\n",
      "Epoch 22/50\n",
      "59/59 [==============================] - 39s 644ms/step - loss: 0.1368 - accuracy: 0.9500 - val_loss: 0.1273 - val_accuracy: 0.9688\n",
      "Epoch 23/50\n",
      "59/59 [==============================] - 38s 636ms/step - loss: 0.1386 - accuracy: 0.9537 - val_loss: 0.1771 - val_accuracy: 0.9375\n",
      "Epoch 24/50\n",
      "59/59 [==============================] - 39s 654ms/step - loss: 0.1151 - accuracy: 0.9640 - val_loss: 0.1992 - val_accuracy: 0.9509\n",
      "Epoch 25/50\n",
      "59/59 [==============================] - 39s 650ms/step - loss: 0.2046 - accuracy: 0.9311 - val_loss: 0.0876 - val_accuracy: 0.9821\n",
      "Epoch 26/50\n",
      "59/59 [==============================] - 41s 674ms/step - loss: 0.1277 - accuracy: 0.9587 - val_loss: 0.0837 - val_accuracy: 0.9688\n",
      "Epoch 27/50\n",
      "59/59 [==============================] - 38s 632ms/step - loss: 0.0967 - accuracy: 0.9633 - val_loss: 0.0599 - val_accuracy: 0.9821\n",
      "Epoch 28/50\n",
      "59/59 [==============================] - 36s 596ms/step - loss: 0.0970 - accuracy: 0.9708 - val_loss: 0.0373 - val_accuracy: 0.9866\n",
      "Epoch 29/50\n",
      "59/59 [==============================] - 41s 679ms/step - loss: 0.1099 - accuracy: 0.9553 - val_loss: 0.1487 - val_accuracy: 0.9598\n",
      "Epoch 30/50\n",
      "59/59 [==============================] - 42s 688ms/step - loss: 0.1451 - accuracy: 0.9511 - val_loss: 0.0838 - val_accuracy: 0.9732\n",
      "Epoch 31/50\n",
      "59/59 [==============================] - 40s 662ms/step - loss: 0.1154 - accuracy: 0.9601 - val_loss: 0.1661 - val_accuracy: 0.9241\n",
      "Epoch 32/50\n",
      "59/59 [==============================] - 39s 648ms/step - loss: 0.1160 - accuracy: 0.9601 - val_loss: 0.1347 - val_accuracy: 0.9464\n",
      "Epoch 33/50\n",
      "59/59 [==============================] - 40s 661ms/step - loss: 0.1488 - accuracy: 0.9484 - val_loss: 0.1220 - val_accuracy: 0.9732\n",
      "Epoch 34/50\n",
      "59/59 [==============================] - 38s 631ms/step - loss: 0.1181 - accuracy: 0.9644 - val_loss: 0.0556 - val_accuracy: 0.9821\n",
      "Epoch 35/50\n",
      "59/59 [==============================] - 38s 628ms/step - loss: 0.0934 - accuracy: 0.9633 - val_loss: 0.0680 - val_accuracy: 0.9911\n",
      "Epoch 36/50\n",
      "59/59 [==============================] - 39s 649ms/step - loss: 0.2019 - accuracy: 0.9405 - val_loss: 0.1142 - val_accuracy: 0.9598\n",
      "Epoch 37/50\n",
      "59/59 [==============================] - 40s 653ms/step - loss: 0.1121 - accuracy: 0.9623 - val_loss: 0.1084 - val_accuracy: 0.9688\n",
      "Epoch 38/50\n",
      "59/59 [==============================] - 39s 649ms/step - loss: 0.0930 - accuracy: 0.9676 - val_loss: 0.0729 - val_accuracy: 0.9770\n",
      "Epoch 39/50\n",
      "59/59 [==============================] - 40s 668ms/step - loss: 0.1091 - accuracy: 0.9613 - val_loss: 0.1054 - val_accuracy: 0.9554\n",
      "Epoch 40/50\n",
      "59/59 [==============================] - 41s 683ms/step - loss: 0.1084 - accuracy: 0.9569 - val_loss: 0.0783 - val_accuracy: 0.9732\n",
      "Epoch 41/50\n",
      "59/59 [==============================] - 39s 649ms/step - loss: 0.1008 - accuracy: 0.9612 - val_loss: 0.1131 - val_accuracy: 0.9554\n",
      "Epoch 42/50\n",
      "59/59 [==============================] - 39s 641ms/step - loss: 0.1029 - accuracy: 0.9628 - val_loss: 0.1042 - val_accuracy: 0.9554\n",
      "Epoch 43/50\n",
      "59/59 [==============================] - 39s 650ms/step - loss: 0.0848 - accuracy: 0.9702 - val_loss: 0.0436 - val_accuracy: 0.9866\n",
      "Epoch 44/50\n",
      "59/59 [==============================] - 39s 653ms/step - loss: 0.0831 - accuracy: 0.9698 - val_loss: 0.0924 - val_accuracy: 0.9677\n",
      "Epoch 45/50\n",
      "59/59 [==============================] - 38s 637ms/step - loss: 0.0819 - accuracy: 0.9724 - val_loss: 0.1194 - val_accuracy: 0.9464\n",
      "Epoch 46/50\n",
      "59/59 [==============================] - 39s 642ms/step - loss: 0.0854 - accuracy: 0.9665 - val_loss: 0.0600 - val_accuracy: 0.9821\n",
      "Epoch 47/50\n",
      "59/59 [==============================] - 40s 658ms/step - loss: 0.0946 - accuracy: 0.9670 - val_loss: 0.0609 - val_accuracy: 0.9821\n",
      "Epoch 48/50\n",
      "59/59 [==============================] - 38s 630ms/step - loss: 0.0864 - accuracy: 0.9697 - val_loss: 0.0936 - val_accuracy: 0.9688\n",
      "Epoch 49/50\n",
      "59/59 [==============================] - 38s 629ms/step - loss: 0.0854 - accuracy: 0.9649 - val_loss: 0.0503 - val_accuracy: 0.9816\n",
      "Epoch 50/50\n",
      "59/59 [==============================] - 38s 635ms/step - loss: 0.0992 - accuracy: 0.9644 - val_loss: 0.0545 - val_accuracy: 0.9821\n"
     ]
    },
    {
     "data": {
      "text/plain": [
       "<keras.callbacks.History at 0x16d2f348850>"
      ]
     },
     "execution_count": 13,
     "metadata": {},
     "output_type": "execute_result"
    }
   ],
   "source": [
    "model.fit(\n",
    "    train_ds,\n",
    "    batch_size=BATCH_SIZE,\n",
    "    validation_data=val_ds,\n",
    "    epochs=50,\n",
    ")"
   ]
  },
  {
   "cell_type": "code",
   "execution_count": 14,
   "id": "fe1be6e6",
   "metadata": {},
   "outputs": [
    {
     "name": "stdout",
     "output_type": "stream",
     "text": [
      "8/8 [==============================] - 11s 212ms/step - loss: 0.0600 - accuracy: 0.9727\n"
     ]
    },
    {
     "data": {
      "text/plain": [
       "[0.059960972517728806, 0.97265625]"
      ]
     },
     "execution_count": 14,
     "metadata": {},
     "output_type": "execute_result"
    }
   ],
   "source": [
    "model.evaluate(test_ds)"
   ]
  },
  {
   "cell_type": "code",
   "execution_count": 15,
   "id": "df7a64ef",
   "metadata": {},
   "outputs": [
    {
     "name": "stdout",
     "output_type": "stream",
     "text": [
      "INFO:tensorflow:Assets written to: C:\\Users\\ABDULA~1\\AppData\\Local\\Temp\\tmp5f5w20aw\\assets\n"
     ]
    }
   ],
   "source": [
    "converter = tf.lite.TFLiteConverter.from_keras_model(model)\n",
    "tflite_model = converter.convert()\n",
    "\n",
    "with open(\"C:/Users/Abdul Aziz Kehar/OneDrive/Desktop/tflite model/Model.tflite\",'wb') as f:\n",
    "    f.write(tflite_model)"
   ]
  },
  {
   "cell_type": "code",
   "execution_count": null,
   "id": "ae7b2261",
   "metadata": {},
   "outputs": [],
   "source": []
  }
 ],
 "metadata": {
  "kernelspec": {
   "display_name": "Python 3 (ipykernel)",
   "language": "python",
   "name": "python3"
  },
  "language_info": {
   "codemirror_mode": {
    "name": "ipython",
    "version": 3
   },
   "file_extension": ".py",
   "mimetype": "text/x-python",
   "name": "python",
   "nbconvert_exporter": "python",
   "pygments_lexer": "ipython3",
   "version": "3.9.7"
  }
 },
 "nbformat": 4,
 "nbformat_minor": 5
}
